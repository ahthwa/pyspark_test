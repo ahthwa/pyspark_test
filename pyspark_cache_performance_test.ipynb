{
 "cells": [
  {
   "cell_type": "code",
   "execution_count": 1,
   "metadata": {
    "collapsed": false
   },
   "outputs": [],
   "source": [
    "purchase_record = sc.textFile(\"file:///Users/ahthwa/Documents/work/codesprint2015/data/round2_purchaseRecord.tsv\")\n",
    "purchase_record_cache = sc.textFile(\"file:///Users/ahthwa/Documents/work/codesprint2015/data/round2_purchaseRecord.tsv\")\n",
    "purchase_record_cache.cache()\n",
    "purchase_record_cache_2 = sc.textFile(\"file:///Users/ahthwa/Documents/work/codesprint2015/data/round2_purchaseRecord.tsv\").cache()"
   ]
  },
  {
   "cell_type": "code",
   "execution_count": 2,
   "metadata": {
    "collapsed": true
   },
   "outputs": [],
   "source": [
    "import time\n",
    "import numpy as np"
   ]
  },
  {
   "cell_type": "code",
   "execution_count": 3,
   "metadata": {
    "collapsed": true
   },
   "outputs": [],
   "source": [
    "def counter(data):\n",
    "    return data.count()\n",
    "\n",
    "def groupby_count(data, key_idx):\n",
    "    return data.map(lambda x:x.strip().split('\\t')).map(lambda x:(x[key_idx], 1)).reduceByKey(lambda a,b:a+b)\n",
    "    "
   ]
  },
  {
   "cell_type": "markdown",
   "metadata": {},
   "source": [
    "## test\n"
   ]
  },
  {
   "cell_type": "code",
   "execution_count": 4,
   "metadata": {
    "collapsed": true
   },
   "outputs": [],
   "source": [
    "TEST_COUNT = 5"
   ]
  },
  {
   "cell_type": "code",
   "execution_count": 5,
   "metadata": {
    "collapsed": true
   },
   "outputs": [],
   "source": [
    "def exec_test(test_count, data):\n",
    "    count_time = []\n",
    "    group_count_time = []\n",
    "\n",
    "    for i in range(test_count):\n",
    "        t0 = time.time()\n",
    "        counter(data)\n",
    "        t1 = time.time()\n",
    "        count_time.append(t1 - t0)\n",
    "\n",
    "        t0 = time.time()\n",
    "        groupby_count(data, 0)\n",
    "        t1 = time.time()\n",
    "        group_count_time.append(t1 - t0)\n",
    "    \n",
    "    print(\"Count Time\")\n",
    "    print(count_time)\n",
    "    print(\"Average Count Time : %f\" %(np.mean(count_time)))\n",
    "    print(\"Group by Time\")\n",
    "    print(group_count_time)\n",
    "    print(\"Average Group By Time : %f\" %(np.mean(group_count_time)))"
   ]
  },
  {
   "cell_type": "code",
   "execution_count": 6,
   "metadata": {
    "collapsed": false
   },
   "outputs": [
    {
     "name": "stdout",
     "output_type": "stream",
     "text": [
      "---- Not Cached ----\n",
      "Count Time\n",
      "[3.748349905014038, 2.793509006500244, 2.9422218799591064, 2.860053777694702, 2.8927829265594482]\n",
      "Average Count Time : 3.047383\n",
      "Group by Time\n",
      "[0.01901102066040039, 0.013628959655761719, 0.014383077621459961, 0.012149810791015625, 0.013009071350097656]\n",
      "Average Group By Time : 0.014436\n",
      "\n",
      "---- Cached-1 ----\n",
      "Count Time\n",
      "[5.686309814453125, 4.772088050842285, 3.4386000633239746, 3.6779069900512695, 3.7073869705200195]\n",
      "Average Count Time : 4.256458\n",
      "Group by Time\n",
      "[0.010840892791748047, 0.019632816314697266, 0.012894868850708008, 0.014159917831420898, 0.019459962844848633]\n",
      "Average Group By Time : 0.015398\n",
      "\n",
      "---- Cached-2 ----\n",
      "Count Time\n",
      "[5.842344045639038, 4.550151109695435, 3.5221848487854004, 3.4568629264831543, 3.4940710067749023]\n",
      "Average Count Time : 4.173123\n",
      "Group by Time\n",
      "[0.02065587043762207, 0.011554956436157227, 0.01361393928527832, 0.011101961135864258, 0.010767936706542969]\n",
      "Average Group By Time : 0.013539\n"
     ]
    }
   ],
   "source": [
    "print(\"---- Not Cached ----\")\n",
    "exec_test(TEST_COUNT, purchase_record)\n",
    "print(\"\\n---- Cached-1 ----\")\n",
    "exec_test(TEST_COUNT, purchase_record_cache)\n",
    "print(\"\\n---- Cached-2 ----\")\n",
    "exec_test(TEST_COUNT, purchase_record_cache_2)"
   ]
  },
  {
   "cell_type": "code",
   "execution_count": null,
   "metadata": {
    "collapsed": true
   },
   "outputs": [],
   "source": []
  }
 ],
 "metadata": {
  "kernelspec": {
   "display_name": "pySpark (Spark 1.6.1)",
   "language": "python",
   "name": "pyspark"
  },
  "language_info": {
   "codemirror_mode": {
    "name": "ipython",
    "version": 3
   },
   "file_extension": ".py",
   "mimetype": "text/x-python",
   "name": "python",
   "nbconvert_exporter": "python",
   "pygments_lexer": "ipython3",
   "version": "3.5.1"
  }
 },
 "nbformat": 4,
 "nbformat_minor": 0
}
